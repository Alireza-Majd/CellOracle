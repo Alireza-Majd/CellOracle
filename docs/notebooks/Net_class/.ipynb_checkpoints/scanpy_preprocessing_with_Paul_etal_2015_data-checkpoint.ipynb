{
 "cells": [
  {
   "cell_type": "markdown",
   "metadata": {},
   "source": [
    "# 0. Import libraries"
   ]
  },
  {
   "cell_type": "code",
   "execution_count": 2,
   "metadata": {},
   "outputs": [],
   "source": [
    "import os\n",
    "import matplotlib.pyplot as plt\n",
    "import numpy as np\n",
    "import pandas as pd\n",
    "import scanpy as sc\n",
    "\n",
    "import celloracle as co"
   ]
  },
  {
   "cell_type": "code",
   "execution_count": 3,
   "metadata": {},
   "outputs": [],
   "source": [
    "%matplotlib inline\n",
    "%config InlineBackend.figure_format = 'retina'\n",
    "plt.rcParams[\"savefig.dpi\"] = 300\n",
    "plt.rcParams[\"figure.figsize\"] = [6, 4.5]"
   ]
  },
  {
   "cell_type": "markdown",
   "metadata": {},
   "source": [
    "# 1. Load data\n"
   ]
  },
  {
   "cell_type": "code",
   "execution_count": 4,
   "metadata": {
    "scrolled": true
   },
   "outputs": [
    {
     "name": "stderr",
     "output_type": "stream",
     "text": [
      "WARNING: In Scanpy 0.*, this returned logarithmized data. Now it returns non-logarithmized data.\n"
     ]
    },
    {
     "data": {
      "application/vnd.jupyter.widget-view+json": {
       "model_id": "6a164a4d5ffd4f8baadf19b934ea9163",
       "version_major": 2,
       "version_minor": 0
      },
      "text/plain": [
       "HBox(children=(FloatProgress(value=0.0, max=10297693.0), HTML(value='')))"
      ]
     },
     "metadata": {},
     "output_type": "display_data"
    },
    {
     "name": "stdout",
     "output_type": "stream",
     "text": [
      "\n"
     ]
    },
    {
     "name": "stderr",
     "output_type": "stream",
     "text": [
      "... storing 'paul15_clusters' as categorical\n",
      "Trying to set attribute `.uns` of view, copying.\n"
     ]
    }
   ],
   "source": [
    "# Download dataset. You can change the code blow if you use another data.\n",
    "adata = sc.datasets.paul15()"
   ]
  },
  {
   "cell_type": "markdown",
   "metadata": {},
   "source": [
    "# 2. Filtering, normalization, transformatioin"
   ]
  },
  {
   "cell_type": "code",
   "execution_count": 8,
   "metadata": {},
   "outputs": [],
   "source": [
    "# Only consider genes with more than 1 count\n",
    "sc.pp.filter_genes(adata, min_counts=1)\n",
    "\n",
    "# Normalize gene expression matrix with total UMI count per cell\n",
    "sc.pp.normalize_per_cell(adata, key_n_counts='n_counts_all')\n",
    "\n",
    "# Log transformation and scaling\n",
    "sc.pp.log1p(adata)\n",
    "sc.pp.scale(adata)"
   ]
  },
  {
   "cell_type": "markdown",
   "metadata": {},
   "source": [
    "# GRN inference with Net class\n",
    "\n",
    "See the link below for details of Net class.\n",
    "https://morris-lab.github.io/CellOracle.documentation/modules/celloracle.html#celloracle.Net"
   ]
  },
  {
   "cell_type": "code",
   "execution_count": 10,
   "metadata": {},
   "outputs": [],
   "source": [
    "# Prepare base GRN\n",
    "base_GRN = co.data.load_mouse_scATAC_atlas_base_GRN()"
   ]
  },
  {
   "cell_type": "code",
   "execution_count": 11,
   "metadata": {},
   "outputs": [
    {
     "name": "stdout",
     "output_type": "stream",
     "text": [
      "initiating Net object ...\n",
      "gem_shape: (2730, 3451)\n",
      "TF info shape: (91976, 1095)\n",
      "initiation completed.\n"
     ]
    }
   ],
   "source": [
    "# Create Net class object. This is the core engine in the Oracle object\n",
    "net = co.Net(gene_expression_matrix=adata.to_df(), # Input gene expression matrix as data frame\n",
    "             TFinfo_matrix=base_GRN, # Input base GRN\n",
    "             verbose=True\n",
    "             )"
   ]
  },
  {
   "cell_type": "code",
   "execution_count": 13,
   "metadata": {},
   "outputs": [
    {
     "data": {
      "application/vnd.jupyter.widget-view+json": {
       "model_id": "745918054e08493492b3a0c4b64e1314",
       "version_major": 2,
       "version_minor": 0
      },
      "text/plain": [
       "HBox(children=(FloatProgress(value=0.0, max=3193.0), HTML(value='')))"
      ]
     },
     "metadata": {},
     "output_type": "display_data"
    },
    {
     "name": "stdout",
     "output_type": "stream",
     "text": [
      "\n"
     ]
    }
   ],
   "source": [
    "# Do GRN calculation\n",
    "net.fit_All_genes(bagging_number=20,\n",
    "                 alpha=10, verbose=True)"
   ]
  },
  {
   "cell_type": "code",
   "execution_count": 14,
   "metadata": {},
   "outputs": [
    {
     "data": {
      "application/vnd.jupyter.widget-view+json": {
       "model_id": "3ec07b7ea5b44638aaeb978a15ca3a9f",
       "version_major": 2,
       "version_minor": 0
      },
      "text/plain": [
       "HBox(children=(FloatProgress(value=0.0, max=3191.0), HTML(value='')))"
      ]
     },
     "metadata": {},
     "output_type": "display_data"
    },
    {
     "name": "stdout",
     "output_type": "stream",
     "text": [
      "\n"
     ]
    },
    {
     "data": {
      "text/html": [
       "<div>\n",
       "<style scoped>\n",
       "    .dataframe tbody tr th:only-of-type {\n",
       "        vertical-align: middle;\n",
       "    }\n",
       "\n",
       "    .dataframe tbody tr th {\n",
       "        vertical-align: top;\n",
       "    }\n",
       "\n",
       "    .dataframe thead th {\n",
       "        text-align: right;\n",
       "    }\n",
       "</style>\n",
       "<table border=\"1\" class=\"dataframe\">\n",
       "  <thead>\n",
       "    <tr style=\"text-align: right;\">\n",
       "      <th></th>\n",
       "      <th>source</th>\n",
       "      <th>target</th>\n",
       "      <th>coef_mean</th>\n",
       "      <th>coef_abs</th>\n",
       "      <th>p</th>\n",
       "      <th>-logp</th>\n",
       "    </tr>\n",
       "  </thead>\n",
       "  <tbody>\n",
       "    <tr>\n",
       "      <th>0</th>\n",
       "      <td>Tcf12</td>\n",
       "      <td>0610007L01Rik</td>\n",
       "      <td>0.010823</td>\n",
       "      <td>0.010823</td>\n",
       "      <td>0.120201</td>\n",
       "      <td>0.920092</td>\n",
       "    </tr>\n",
       "    <tr>\n",
       "      <th>1</th>\n",
       "      <td>Klf13</td>\n",
       "      <td>0610007L01Rik</td>\n",
       "      <td>0.006759</td>\n",
       "      <td>0.006759</td>\n",
       "      <td>0.154267</td>\n",
       "      <td>0.811726</td>\n",
       "    </tr>\n",
       "    <tr>\n",
       "      <th>2</th>\n",
       "      <td>Ets1</td>\n",
       "      <td>0610007L01Rik</td>\n",
       "      <td>0.039385</td>\n",
       "      <td>0.039385</td>\n",
       "      <td>0.000456</td>\n",
       "      <td>3.341160</td>\n",
       "    </tr>\n",
       "    <tr>\n",
       "      <th>3</th>\n",
       "      <td>Tal1</td>\n",
       "      <td>0610007L01Rik</td>\n",
       "      <td>0.006645</td>\n",
       "      <td>0.006645</td>\n",
       "      <td>0.097419</td>\n",
       "      <td>1.011355</td>\n",
       "    </tr>\n",
       "    <tr>\n",
       "      <th>4</th>\n",
       "      <td>Irf7</td>\n",
       "      <td>0610007L01Rik</td>\n",
       "      <td>-0.020982</td>\n",
       "      <td>0.020982</td>\n",
       "      <td>0.000339</td>\n",
       "      <td>3.469290</td>\n",
       "    </tr>\n",
       "    <tr>\n",
       "      <th>...</th>\n",
       "      <td>...</td>\n",
       "      <td>...</td>\n",
       "      <td>...</td>\n",
       "      <td>...</td>\n",
       "      <td>...</td>\n",
       "      <td>...</td>\n",
       "    </tr>\n",
       "    <tr>\n",
       "      <th>226885</th>\n",
       "      <td>Rarg</td>\n",
       "      <td>Zzef1</td>\n",
       "      <td>0.010391</td>\n",
       "      <td>0.010391</td>\n",
       "      <td>0.036024</td>\n",
       "      <td>1.443409</td>\n",
       "    </tr>\n",
       "    <tr>\n",
       "      <th>226886</th>\n",
       "      <td>Rest</td>\n",
       "      <td>Zzef1</td>\n",
       "      <td>0.005963</td>\n",
       "      <td>0.005963</td>\n",
       "      <td>0.275581</td>\n",
       "      <td>0.559751</td>\n",
       "    </tr>\n",
       "    <tr>\n",
       "      <th>226887</th>\n",
       "      <td>Meis1</td>\n",
       "      <td>Zzef1</td>\n",
       "      <td>-0.029658</td>\n",
       "      <td>0.029658</td>\n",
       "      <td>0.000006</td>\n",
       "      <td>5.191605</td>\n",
       "    </tr>\n",
       "    <tr>\n",
       "      <th>226888</th>\n",
       "      <td>Id1</td>\n",
       "      <td>Zzef1</td>\n",
       "      <td>-0.026081</td>\n",
       "      <td>0.026081</td>\n",
       "      <td>0.000036</td>\n",
       "      <td>4.438767</td>\n",
       "    </tr>\n",
       "    <tr>\n",
       "      <th>226889</th>\n",
       "      <td>Lmo2</td>\n",
       "      <td>Zzef1</td>\n",
       "      <td>0.010031</td>\n",
       "      <td>0.010031</td>\n",
       "      <td>0.181068</td>\n",
       "      <td>0.742158</td>\n",
       "    </tr>\n",
       "  </tbody>\n",
       "</table>\n",
       "<p>226890 rows × 6 columns</p>\n",
       "</div>"
      ],
      "text/plain": [
       "       source         target  coef_mean  coef_abs         p     -logp\n",
       "0       Tcf12  0610007L01Rik   0.010823  0.010823  0.120201  0.920092\n",
       "1       Klf13  0610007L01Rik   0.006759  0.006759  0.154267  0.811726\n",
       "2        Ets1  0610007L01Rik   0.039385  0.039385  0.000456  3.341160\n",
       "3        Tal1  0610007L01Rik   0.006645  0.006645  0.097419  1.011355\n",
       "4        Irf7  0610007L01Rik  -0.020982  0.020982  0.000339  3.469290\n",
       "...       ...            ...        ...       ...       ...       ...\n",
       "226885   Rarg          Zzef1   0.010391  0.010391  0.036024  1.443409\n",
       "226886   Rest          Zzef1   0.005963  0.005963  0.275581  0.559751\n",
       "226887  Meis1          Zzef1  -0.029658  0.029658  0.000006  5.191605\n",
       "226888    Id1          Zzef1  -0.026081  0.026081  0.000036  4.438767\n",
       "226889   Lmo2          Zzef1   0.010031  0.010031  0.181068  0.742158\n",
       "\n",
       "[226890 rows x 6 columns]"
      ]
     },
     "execution_count": 14,
     "metadata": {},
     "output_type": "execute_result"
    }
   ],
   "source": [
    "# Get result\n",
    "net.updateLinkList(verbose=True)\n",
    "inference_result = net.linkList.copy()\n",
    "inference_result"
   ]
  },
  {
   "cell_type": "code",
   "execution_count": null,
   "metadata": {},
   "outputs": [],
   "source": []
  }
 ],
 "metadata": {
  "finalized": {
   "timestamp": 1626455553389,
   "trusted": true
  },
  "kernelspec": {
   "display_name": "Python 3",
   "language": "python",
   "name": "python3"
  },
  "language_info": {
   "codemirror_mode": {
    "name": "ipython",
    "version": 3
   },
   "file_extension": ".py",
   "mimetype": "text/x-python",
   "name": "python",
   "nbconvert_exporter": "python",
   "pygments_lexer": "ipython3",
   "version": "3.6.10"
  },
  "varInspector": {
   "cols": {
    "lenName": 16,
    "lenType": 16,
    "lenVar": 40
   },
   "kernels_config": {
    "python": {
     "delete_cmd_postfix": "",
     "delete_cmd_prefix": "del ",
     "library": "var_list.py",
     "varRefreshCmd": "print(var_dic_list())"
    },
    "r": {
     "delete_cmd_postfix": ") ",
     "delete_cmd_prefix": "rm(",
     "library": "var_list.r",
     "varRefreshCmd": "cat(var_dic_list()) "
    }
   },
   "types_to_exclude": [
    "module",
    "function",
    "builtin_function_or_method",
    "instance",
    "_Feature"
   ],
   "window_display": false
  }
 },
 "nbformat": 4,
 "nbformat_minor": 2
}
