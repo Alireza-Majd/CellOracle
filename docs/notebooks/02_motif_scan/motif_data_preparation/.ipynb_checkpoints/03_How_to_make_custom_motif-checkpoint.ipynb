{
 "cells": [
  {
   "cell_type": "markdown",
   "metadata": {},
   "source": [
    "# 1. Prepare input data\n",
    "\n",
    "If you want to use another motif data source, you need to make a list of `motif` class in gimmemotifs.\n",
    "The easiest way to make such object is to use `read_motifs` function provided by gimmemotifs package.\n",
    "\n",
    "This function can load motif data text file. \n",
    "You need to prepare two files, XXX.motif2factors.txt and XXX.pfm.\n",
    "\n"
   ]
  },
  {
   "cell_type": "markdown",
   "metadata": {},
   "source": [
    "## 3.1 XXX.motif2factors.txt\n",
    "The text file, XXX.motif2factors.txt includes TF factor annotation for each motifs.\n",
    "The file should be like a tsv file like below. \n",
    "\n",
    "- The first column should be motif name, the motif name should match with motif name in pfm file.\n",
    "- The second column is gene symbol, the thrid column is datasource. This column is not important.\n",
    "- The third column is data sorce name. Don't include space in the data source name.\n",
    "- The forth column is additional information for this factor. Please enter \"Y\" if the factor information was confirmed by some experimental evidence. Otherwise, please enter \"N\"."
   ]
  },
  {
   "cell_type": "code",
   "execution_count": null,
   "metadata": {},
   "outputs": [],
   "source": [
    "# Download example XXX.motif2factors.txt data\n"
   ]
  },
  {
   "cell_type": "code",
   "execution_count": 52,
   "metadata": {
    "scrolled": false
   },
   "outputs": [
    {
     "name": "stdout",
     "output_type": "stream",
     "text": [
      "Motif\tFactor\tEvidence\tCurated\n",
      "\n",
      "MA0020.1_Dof2\tDof2\tSELEX\tY\n",
      "\n",
      "MA0021.1_Dof3\tDof3\tSELEX\tY\n",
      "\n",
      "MA0034.1_Gam1\tGam1\tSELEX\tY\n",
      "\n",
      "MA0044.1_HMG-1\tHMG-1\tSELEX\tY\n",
      "\n",
      "MA0045.1_HMG-I/Y\tHMG-I/Y\tSELEX\tY\n",
      "\n",
      "MA0053.1_MNB1A\tMNB1A\tSELEX\tY\n",
      "\n"
     ]
    }
   ],
   "source": [
    "path_motif2factors = \"\"\n",
    "\n",
    "# Print the contents.\n",
    "with open(path_motif2factors, \"r\") as f:\n",
    "    for i, j in enumerate(f):\n",
    "        print(j)\n",
    "        if i>5:\n",
    "            break"
   ]
  },
  {
   "cell_type": "markdown",
   "metadata": {},
   "source": [
    "## 3.2 XXX.pfm\n",
    "The second file, XXX.pfm. should includes motif pwm information.\n",
    "The file shoud be like below.\n",
    "\n",
    "The motif name in this pfm file should exactly match with the motif name in motif2factor.txt file."
   ]
  },
  {
   "cell_type": "code",
   "execution_count": 55,
   "metadata": {},
   "outputs": [
    {
     "name": "stdout",
     "output_type": "stream",
     "text": [
      "# JASPAR2018_plants motif database\n",
      "\n",
      "# Retrieved from: http://jaspar.genereg.net/download/CORE/JASPAR2018_CORE_plants_non-redundant_pfms_jaspar.txt\n",
      "\n",
      "# Date: 2018-10-17\n",
      "\n",
      ">MA0020.1_Dof2\n",
      "\n",
      "0.9999\t0.0000\t0.0000\t0.0000\n",
      "\n",
      "0.9999\t0.0000\t0.0000\t0.0000\n",
      "\n",
      "0.9999\t0.0000\t0.0000\t0.0000\n",
      "\n",
      "0.0000\t0.0000\t0.9999\t0.0000\n",
      "\n",
      "0.1429\t0.6666\t0.0953\t0.0953\n",
      "\n",
      "0.3333\t0.2857\t0.1429\t0.2381\n",
      "\n",
      ">MA0021.1_Dof3\n",
      "\n",
      "0.9999\t0.0000\t0.0000\t0.0000\n",
      "\n"
     ]
    }
   ],
   "source": [
    "path_.pfm = \"\"\n",
    "\n",
    "with open(path, \"r\") as f:\n",
    "    for i, j in enumerate(f):\n",
    "        print(j)\n",
    "        if i>10:\n",
    "            break"
   ]
  },
  {
   "cell_type": "markdown",
   "metadata": {},
   "source": [
    "## 3.3 Load files as motif list\n",
    "We can load files using read_motifs function in gimmemotifs.\n",
    "\n",
    "First, please prepare two files, XXX.motif2factors.txt and XXX.pfm. in the same directly.\n",
    "If you have theses two file in a different place, we cannot use the read_motifs function.\n",
    "\n"
   ]
  },
  {
   "cell_type": "code",
   "execution_count": 58,
   "metadata": {},
   "outputs": [
    {
     "name": "stdout",
     "output_type": "stream",
     "text": [
      "/home/k/anaconda3/envs/pandas1/lib/python3.6/site-packages/data/motif_databases/JASPAR2018_plants.pfm\n"
     ]
    },
    {
     "data": {
      "text/plain": [
       "[MA0020.1_Dof2_AAAGCn,\n",
       " MA0021.1_Dof3_AAAGyn,\n",
       " MA0034.1_Gam1_nnyAACCGmC,\n",
       " MA0044.1_HMG-1_sTTGTnyTy,\n",
       " MA0045.1_HMG-I/Y_nwAnAAAnrnmrAmAy,\n",
       " MA0053.1_MNB1A_AAAGC,\n",
       " MA0054.1_myb.Ph3_TAACnGTTw,\n",
       " MA0064.1_PBF_AAAGy,\n",
       " MA0082.1_squamosa_mCAwAwATrGwAAn,\n",
       " MA0096.1_bZIP910_mTGACGT]"
      ]
     },
     "execution_count": 58,
     "metadata": {},
     "output_type": "execute_result"
    }
   ],
   "source": [
    "from gimmemotifs.motif import read_motifs\n",
    "\n",
    "# Check path for pfm file\n",
    "print(path)\n",
    "\n",
    "# Read motifs\n",
    "motifs = read_motifs(path)\n",
    "\n",
    "# Check first 10 motifs\n",
    "motifs[:10]"
   ]
  },
  {
   "cell_type": "markdown",
   "metadata": {},
   "source": [
    "In another notebook, we introduce how to make XXX.pfm file and XXX.motif2factors.txt file.\n",
    "Pleas look at that if you want to make your motif data by yourself."
   ]
  }
 ],
 "metadata": {
  "finalized": {
   "timestamp": 1626461508706,
   "trusted": true
  },
  "kernelspec": {
   "display_name": "Python 3",
   "language": "python",
   "name": "python3"
  },
  "language_info": {
   "codemirror_mode": {
    "name": "ipython",
    "version": 3
   },
   "file_extension": ".py",
   "mimetype": "text/x-python",
   "name": "python",
   "nbconvert_exporter": "python",
   "pygments_lexer": "ipython3",
   "version": "3.6.10"
  }
 },
 "nbformat": 4,
 "nbformat_minor": 2
}
